{
  "nbformat": 4,
  "nbformat_minor": 0,
  "metadata": {
    "colab": {
      "provenance": [],
      "collapsed_sections": [
        "gExgE_ROiRdB",
        "bqvMK2Mzp66C",
        "HIyIR0hS6ypp",
        "GX2w7-L-_nzx",
        "wrtfXqVOTHAc"
      ]
    },
    "kernelspec": {
      "name": "python3",
      "display_name": "Python 3"
    },
    "language_info": {
      "name": "python"
    },
    "accelerator": "GPU"
  },
  "cells": [
    {
      "cell_type": "code",
      "metadata": {
        "colab": {
          "base_uri": "https://localhost:8080/"
        },
        "id": "Swtd_4klNYc-",
        "outputId": "349f715b-4ec4-4f9a-b053-9cafd7e4b9d4"
      },
      "source": [
        "from google.colab import drive\n",
        "drive.mount('/content/gdrive')"
      ],
      "execution_count": null,
      "outputs": [
        {
          "output_type": "stream",
          "text": [
            "Drive already mounted at /content/gdrive; to attempt to forcibly remount, call drive.mount(\"/content/gdrive\", force_remount=True).\n"
          ],
          "name": "stdout"
        }
      ]
    },
    {
      "cell_type": "markdown",
      "metadata": {
        "id": "Kk8nhLNaS56j"
      },
      "source": [
        "### **Checking Colab Environment**"
      ]
    },
    {
      "cell_type": "markdown",
      "metadata": {
        "id": "zDlKuG3fP3v1"
      },
      "source": [
        "# Scikit-learn"
      ]
    },
    {
      "cell_type": "code",
      "metadata": {
        "id": "x_y3ubskP4Io"
      },
      "source": [
        "!pip install -U scikit-learn"
      ],
      "execution_count": null,
      "outputs": []
    },
    {
      "cell_type": "code",
      "metadata": {
        "id": "HQ59nAkwSjyB"
      },
      "source": [
        "from sklearn.preprocessing import MinMaxScaler"
      ],
      "execution_count": null,
      "outputs": []
    },
    {
      "cell_type": "code",
      "metadata": {
        "id": "4IaOB7dVTDHU"
      },
      "source": [
        "import numpy as np\n",
        "import matplotlib as mpl \n",
        "import matplotlib.pyplot as plt\n",
        "from matplotlib import cm"
      ],
      "execution_count": null,
      "outputs": []
    },
    {
      "cell_type": "code",
      "metadata": {
        "id": "tU724ajDTSeG"
      },
      "source": [
        "from sklearn import datasets, svm, metrics\n",
        "from sklearn.model_selection import train_test_split"
      ],
      "execution_count": null,
      "outputs": []
    },
    {
      "cell_type": "markdown",
      "metadata": {
        "id": "ZeVmPb3LTLm3"
      },
      "source": [
        "# Data Analysis"
      ]
    },
    {
      "cell_type": "code",
      "metadata": {
        "id": "b-DjPnKSTqz8"
      },
      "source": [
        "dataset = datasets.load_digits()"
      ],
      "execution_count": null,
      "outputs": []
    },
    {
      "cell_type": "code",
      "metadata": {
        "id": "Uz0Gr1WXTd7-",
        "colab": {
          "base_uri": "https://localhost:8080/",
          "height": 200
        },
        "outputId": "081f9e2e-f781-4394-80d6-59ee63f180ad"
      },
      "source": [
        "_, axes = plt.subplots(nrows=1, ncols=4, figsize=(10,3))\n",
        "for ax, image, label in zip(axes, dataset.images, dataset.target):\n",
        "  #ax.set_axis_off()\n",
        "  ax.imshow(image, cmap=plt.cm.gray_r, interpolation=\"nearest\")\n",
        "  ax.set_title(\"Training: %i\\n\" % label)"
      ],
      "execution_count": null,
      "outputs": [
        {
          "output_type": "display_data",
          "data": {
            "image/png": "[encoded data removed]",
            "text/plain": [
              "<Figure size 720x216 with 4 Axes>"
            ]
          },
          "metadata": {
            "needs_background": "light"
          }
        }
      ]
    },
    {
      "cell_type": "code",
      "metadata": {
        "id": "3WUWkc3yVQ0k"
      },
      "source": [
        "dataset.images[0]\n"
      ],
      "execution_count": null,
      "outputs": []
    },
    {
      "cell_type": "code",
      "metadata": {
        "colab": {
          "base_uri": "https://localhost:8080/"
        },
        "id": "ymJ-o5nNWoes",
        "outputId": "2c714d2c-abeb-406c-9c49-d3c6de677ae6"
      },
      "source": [
        "dataset['data'].shape, dataset['target'].shape"
      ],
      "execution_count": null,
      "outputs": [
        {
          "output_type": "execute_result",
          "data": {
            "text/plain": [
              "((1797, 64), (1797,))"
            ]
          },
          "metadata": {},
          "execution_count": 12
        }
      ]
    },
    {
      "cell_type": "code",
      "metadata": {
        "id": "1CbxAtjTTX80"
      },
      "source": [
        "print(dataset.DESCR)"
      ],
      "execution_count": null,
      "outputs": []
    },
    {
      "cell_type": "markdown",
      "metadata": {
        "id": "54uLakfOS_yJ"
      },
      "source": [
        "# K-nearest neighbors"
      ]
    },
    {
      "cell_type": "code",
      "metadata": {
        "id": "hk1TitkrS1_t"
      },
      "source": [
        "from sklearn import datasets, neighbors, linear_model, metrics\n",
        "from sklearn.neighbors import KNeighborsClassifier\n",
        "from sklearn.model_selection import train_test_split"
      ],
      "execution_count": null,
      "outputs": []
    },
    {
      "cell_type": "code",
      "metadata": {
        "colab": {
          "base_uri": "https://localhost:8080/"
        },
        "id": "CIW5vbdZeOjw",
        "outputId": "318032ae-6f55-4eaa-acae-ba6f726ddaf3"
      },
      "source": [
        "x = dataset.data\n",
        "y = dataset.target\n",
        "\n",
        "train_ratio = 0.6\n",
        "test_ratio = 0.2\n",
        "valid_ratio = 0.2\n",
        "\n",
        "x_train, x_test, y_train, y_test = train_test_split(x,y,test_size=test_ratio) # 20% test\n",
        "x_train, x_valid, y_train, y_valid = train_test_split(x_train,y_train,test_size=valid_ratio/(train_ratio+test_ratio)) # 20% valid\n",
        "\n",
        "# create KNN classifier\n",
        "knn = KNeighborsClassifier(n_neighbors=25)\n",
        "\n",
        "# train model using training sets\n",
        "knn.fit(x_train,y_train)\n",
        "\n",
        "# predict response for test dataset\n",
        "y_pred = knn.predict(x_test)\n",
        "%timeit knn.predict(x_test)\n",
        "print(\"Accuracy:\",metrics.accuracy_score(y_test, y_pred))\n",
        "knn.score(x_test,y_test)"
      ],
      "execution_count": null,
      "outputs": [
        {
          "output_type": "stream",
          "name": "stdout",
          "text": [
            "10 loops, best of 5: 32.3 ms per loop\n",
            "Accuracy: 0.9611111111111111\n"
          ]
        },
        {
          "output_type": "execute_result",
          "data": {
            "text/plain": [
              "0.9611111111111111"
            ]
          },
          "metadata": {},
          "execution_count": 5
        }
      ]
    },
    {
      "cell_type": "code",
      "metadata": {
        "colab": {
          "base_uri": "https://localhost:8080/"
        },
        "id": "hhNyS0UaryEd",
        "outputId": "8500e64f-266d-4f6d-80d6-1341d8a10b3e"
      },
      "source": [
        "print(x_train.shape)\n",
        "print(x_test.shape)\n",
        "print(x_valid.shape)"
      ],
      "execution_count": null,
      "outputs": [
        {
          "output_type": "stream",
          "name": "stdout",
          "text": [
            "(1077, 64)\n",
            "(360, 64)\n",
            "(360, 64)\n"
          ]
        }
      ]
    },
    {
      "cell_type": "code",
      "metadata": {
        "colab": {
          "base_uri": "https://localhost:8080/"
        },
        "id": "QAgRzQUfdq3C",
        "outputId": "3fc9280b-fd07-4e48-eb79-02670b2982f4"
      },
      "source": [
        "print(knn.predict(x_valid))\n"
      ],
      "execution_count": null,
      "outputs": [
        {
          "output_type": "stream",
          "name": "stdout",
          "text": [
            "[6 6 4 5 3 3 9 1 2 8 4 7 9 7 9 6 2 3 3 6 8 6 8 1 7 8 3 8 1 0 4 8 9 0 1 8 7\n",
            " 7 0 3 8 8 8 5 5 9 4 9 5 9 6 9 5 2 4 9 2 3 7 8 8 5 2 6 5 1 6 6 7 7 6 2 4 1\n",
            " 4 5 8 0 7 9 0 8 5 7 8 1 7 0 2 5 1 3 1 6 4 8 1 0 0 6 9 5 5 0 7 5 5 2 4 2 0\n",
            " 5 1 0 3 4 2 2 9 7 7 5 9 4 9 7 7 0 4 4 4 3 2 2 5 8 8 6 3 6 1 7 7 1 7 2 9 0\n",
            " 3 5 7 9 0 6 9 2 2 4 4 6 1 9 7 7 1 2 7 3 4 9 8 2 9 0 8 8 4 4 2 6 0 6 2 1 0\n",
            " 1 8 4 4 3 2 7 3 5 1 5 1 0 5 2 2 7 1 6 0 6 7 6 7 2 3 5 5 4 0 1 8 8 9 3 3 7\n",
            " 4 3 7 2 4 4 3 5 9 6 4 7 0 0 3 0 1 9 8 3 9 7 0 1 6 3 0 1 1 0 1 0 6 6 9 2 1\n",
            " 6 5 8 3 4 8 3 1 5 6 3 6 4 8 2 4 4 4 8 4 4 7 1 3 7 2 0 8 6 8 9 6 7 0 8 4 6\n",
            " 3 9 1 3 2 3 7 3 6 2 7 1 2 7 4 5 0 4 5 4 5 5 1 8 8 0 5 8 3 4 5 3 3 2 7 8 6\n",
            " 0 6 4 4 0 3 7 3 4 3 9 6 3 9 8 5 6 0 4 1 5 4 0 7 0 5 4]\n"
          ]
        }
      ]
    },
    {
      "cell_type": "code",
      "metadata": {
        "colab": {
          "base_uri": "https://localhost:8080/"
        },
        "id": "vfO-CWgXpjIE",
        "outputId": "2e21f85f-60ce-4150-a855-cc4d3441e034"
      },
      "source": [
        "print(y_valid)"
      ],
      "execution_count": null,
      "outputs": [
        {
          "output_type": "stream",
          "name": "stdout",
          "text": [
            "[6 8 4 5 3 3 9 1 2 8 4 7 9 7 9 6 3 3 8 6 8 6 8 1 7 8 3 8 8 0 4 8 9 0 1 8 7\n",
            " 7 0 3 8 8 8 5 5 9 4 9 5 9 6 9 5 2 4 9 2 3 7 8 8 5 2 6 5 1 6 6 7 7 6 2 4 1\n",
            " 4 5 8 0 7 9 0 8 5 7 2 1 3 0 2 5 1 3 1 6 4 8 1 0 0 6 9 5 5 0 7 5 5 2 4 2 0\n",
            " 5 1 0 3 4 2 2 9 3 7 5 9 4 9 7 7 0 4 4 4 3 2 2 5 3 8 6 3 6 1 7 7 1 7 2 9 0\n",
            " 3 5 7 9 0 6 9 2 2 4 4 6 1 9 7 7 1 2 7 3 4 9 2 2 9 0 8 8 4 4 2 6 0 6 2 1 0\n",
            " 1 8 4 4 9 2 7 3 5 1 5 1 0 5 2 2 7 1 6 0 6 7 6 7 1 3 5 5 4 0 1 2 8 9 3 3 7\n",
            " 4 3 9 2 4 4 3 5 9 6 4 7 0 0 3 0 1 9 8 3 9 7 0 1 6 3 0 1 1 0 1 0 6 6 9 2 1\n",
            " 6 5 8 3 4 8 3 1 5 6 3 6 4 8 2 4 4 4 8 4 4 7 1 3 7 2 0 8 6 8 9 6 7 0 8 4 6\n",
            " 3 9 1 3 2 3 7 3 6 2 7 1 2 7 4 5 0 4 5 4 5 5 1 8 8 0 5 8 3 4 5 3 3 2 7 8 6\n",
            " 0 6 4 4 0 3 7 3 4 3 9 6 3 9 8 5 6 0 4 1 5 4 0 9 0 5 4]\n"
          ]
        }
      ]
    },
    {
      "cell_type": "markdown",
      "metadata": {
        "id": "gExgE_ROiRdB"
      },
      "source": [
        "# Logistic regression"
      ]
    },
    {
      "cell_type": "code",
      "metadata": {
        "id": "F2dvwD3aXvzF"
      },
      "source": [
        "from sklearn.linear_model import LogisticRegression"
      ],
      "execution_count": null,
      "outputs": []
    },
    {
      "cell_type": "code",
      "metadata": {
        "id": "Q5PGEnK1YYkn"
      },
      "source": [
        "log = LogisticRegression(random_state=0)"
      ],
      "execution_count": null,
      "outputs": []
    },
    {
      "cell_type": "code",
      "metadata": {
        "colab": {
          "base_uri": "https://localhost:8080/"
        },
        "id": "QyMGQ41BY7AP",
        "outputId": "542c516c-e38e-4e00-a29b-867a44b9c064"
      },
      "source": [
        "log.fit(x_train,y_train)"
      ],
      "execution_count": null,
      "outputs": [
        {
          "output_type": "stream",
          "name": "stderr",
          "text": [
            "/usr/local/lib/python3.7/dist-packages/sklearn/linear_model/_logistic.py:818: ConvergenceWarning: lbfgs failed to converge (status=1):\n",
            "STOP: TOTAL NO. of ITERATIONS REACHED LIMIT.\n",
            "\n",
            "Increase the number of iterations (max_iter) or scale the data as shown in:\n",
            "    https://scikit-learn.org/stable/modules/preprocessing.html\n",
            "Please also refer to the documentation for alternative solver options:\n",
            "    https://scikit-learn.org/stable/modules/linear_model.html#logistic-regression\n",
            "  extra_warning_msg=_LOGISTIC_SOLVER_CONVERGENCE_MSG,\n"
          ]
        },
        {
          "output_type": "execute_result",
          "data": {
            "text/plain": [
              "LogisticRegression(random_state=0)"
            ]
          },
          "metadata": {},
          "execution_count": 23
        }
      ]
    },
    {
      "cell_type": "code",
      "metadata": {
        "colab": {
          "base_uri": "https://localhost:8080/"
        },
        "id": "o0Mpl1WMyfS-",
        "outputId": "4908f992-e5cd-47de-dd4e-2680e12e66e3"
      },
      "source": [
        "%timeit log.predict(x_test)"
      ],
      "execution_count": null,
      "outputs": [
        {
          "output_type": "stream",
          "name": "stdout",
          "text": [
            "10000 loops, best of 5: 162 µs per loop\n"
          ]
        }
      ]
    },
    {
      "cell_type": "markdown",
      "metadata": {
        "id": "gVDNCNv6n22A"
      },
      "source": []
    },
    {
      "cell_type": "code",
      "metadata": {
        "colab": {
          "base_uri": "https://localhost:8080/"
        },
        "id": "yR0e0Apyrol6",
        "outputId": "15a92e18-d8b6-446a-e505-c50e76e1b35f"
      },
      "source": [
        "print(log.predict(x_valid))"
      ],
      "execution_count": null,
      "outputs": [
        {
          "output_type": "stream",
          "name": "stdout",
          "text": [
            "[6 8 4 5 3 3 9 1 2 8 4 7 9 7 9 6 8 3 8 6 5 6 8 1 7 8 3 8 8 0 4 4 9 0 1 8 7\n",
            " 7 0 3 8 8 8 5 5 9 4 9 5 9 6 9 5 2 4 9 2 3 7 8 8 5 2 6 5 1 6 6 7 7 6 2 4 1\n",
            " 4 5 8 0 7 9 0 8 5 7 2 1 2 0 2 5 1 3 1 6 4 8 1 0 0 6 9 5 5 0 7 5 5 2 4 2 0\n",
            " 2 1 0 3 4 2 2 9 3 7 5 9 4 9 7 7 0 4 4 4 3 2 2 5 3 8 6 3 6 1 7 7 1 7 2 9 0\n",
            " 3 5 7 9 0 6 9 2 2 4 4 6 1 9 7 7 1 2 7 3 4 9 2 2 9 0 8 8 4 4 2 6 0 6 2 1 0\n",
            " 1 8 4 4 8 2 7 3 5 1 5 1 0 5 2 2 7 1 6 0 6 7 6 7 1 3 5 5 4 0 1 2 8 9 3 3 7\n",
            " 4 3 9 2 4 4 5 5 9 6 4 7 0 0 3 0 1 9 8 3 9 7 0 1 6 3 0 1 1 0 1 0 6 6 9 2 1\n",
            " 6 5 8 3 4 8 3 1 5 6 3 6 4 8 2 4 4 4 8 4 4 8 1 3 7 2 0 8 6 8 9 6 7 0 8 4 6\n",
            " 3 9 1 3 2 3 7 3 6 2 7 1 2 7 4 5 0 4 5 4 5 5 1 8 8 0 5 8 3 4 5 3 3 2 7 8 6\n",
            " 0 6 4 4 0 3 7 3 4 3 9 6 3 9 8 5 6 0 4 1 5 4 0 9 0 9 4]\n"
          ]
        }
      ]
    },
    {
      "cell_type": "code",
      "metadata": {
        "colab": {
          "base_uri": "https://localhost:8080/"
        },
        "id": "r1wVUQylrdxQ",
        "outputId": "6039e34d-4e36-4c72-e38b-015cca16808f"
      },
      "source": [
        "log.score(x_test,y_test) # mean accuracy on given test data and labels"
      ],
      "execution_count": null,
      "outputs": [
        {
          "output_type": "execute_result",
          "data": {
            "text/plain": [
              "0.9805555555555555"
            ]
          },
          "metadata": {},
          "execution_count": 173
        }
      ]
    },
    {
      "cell_type": "code",
      "metadata": {
        "colab": {
          "base_uri": "https://localhost:8080/"
        },
        "id": "uU2HO-6vksqA",
        "outputId": "f82d855e-c6ff-4689-a37a-0b73db8aaed9"
      },
      "source": [
        "metrics.accuracy_score(y_test, log.predict(x_test))"
      ],
      "execution_count": null,
      "outputs": [
        {
          "output_type": "execute_result",
          "data": {
            "text/plain": [
              "0.9805555555555555"
            ]
          },
          "metadata": {},
          "execution_count": 181
        }
      ]
    },
    {
      "cell_type": "markdown",
      "metadata": {
        "id": "bqvMK2Mzp66C"
      },
      "source": [
        "# SVM"
      ]
    },
    {
      "cell_type": "code",
      "metadata": {
        "id": "fEprM2fxrJUO"
      },
      "source": [
        "from sklearn import svm"
      ],
      "execution_count": null,
      "outputs": []
    },
    {
      "cell_type": "code",
      "metadata": {
        "colab": {
          "base_uri": "https://localhost:8080/"
        },
        "id": "oDZcpK_wYi-t",
        "outputId": "f5f23fa7-8b26-412a-a730-4e02b0100fdf"
      },
      "source": [
        "clf1 = svm.SVC()\n",
        "clf1.fit(x_train,y_train)\n",
        "%timeit clf1.predict(x_test)\n",
        "clf1.score(x_test,y_test)"
      ],
      "execution_count": null,
      "outputs": [
        {
          "output_type": "stream",
          "name": "stdout",
          "text": [
            "10 loops, best of 5: 21.7 ms per loop\n"
          ]
        },
        {
          "output_type": "execute_result",
          "data": {
            "text/plain": [
              "0.9805555555555555"
            ]
          },
          "metadata": {},
          "execution_count": 26
        }
      ]
    },
    {
      "cell_type": "code",
      "metadata": {
        "id": "Sw_0W4tDaIMU"
      },
      "source": [
        "#rbf_svc = svm.SVC(kernel='rbf')\n",
        "\n",
        "svc = svm.SVC(gamma=0.001, C=100.)"
      ],
      "execution_count": null,
      "outputs": []
    },
    {
      "cell_type": "code",
      "metadata": {
        "id": "giUP-J493zHC"
      },
      "source": [
        "#x_train, x_test, y_train, y_test = train_test_split(x,y,test_size=0.3)"
      ],
      "execution_count": null,
      "outputs": []
    },
    {
      "cell_type": "code",
      "metadata": {
        "colab": {
          "base_uri": "https://localhost:8080/"
        },
        "id": "_w-f5CxG4agw",
        "outputId": "58b7fa18-57d4-4735-a055-60efaf23bd95"
      },
      "source": [
        "svc.fit(x_train,y_train)"
      ],
      "execution_count": null,
      "outputs": [
        {
          "output_type": "execute_result",
          "data": {
            "text/plain": [
              "SVC(C=100.0, gamma=0.001)"
            ]
          },
          "metadata": {},
          "execution_count": 178
        }
      ]
    },
    {
      "cell_type": "code",
      "metadata": {
        "colab": {
          "base_uri": "https://localhost:8080/"
        },
        "id": "-91Mqavn4fFj",
        "outputId": "d90eb947-0728-4c1a-83da-86df81a46aa0"
      },
      "source": [
        "%timeit svc.predict(x_test)"
      ],
      "execution_count": null,
      "outputs": [
        {
          "output_type": "stream",
          "name": "stdout",
          "text": [
            "10 loops, best of 5: 25.1 ms per loop\n"
          ]
        }
      ]
    },
    {
      "cell_type": "code",
      "metadata": {
        "colab": {
          "base_uri": "https://localhost:8080/"
        },
        "id": "q2PAOflZ47ak",
        "outputId": "fc5d2108-bfc0-4a8f-ce57-1772b05c0592"
      },
      "source": [
        "svc.score(x_test,y_test)"
      ],
      "execution_count": null,
      "outputs": [
        {
          "output_type": "execute_result",
          "data": {
            "text/plain": [
              "0.9805555555555555"
            ]
          },
          "metadata": {},
          "execution_count": 180
        }
      ]
    },
    {
      "cell_type": "code",
      "metadata": {
        "id": "QO7sHA05aNU1"
      },
      "source": [
        "def my_kernel(X,Y):\n",
        "  return np.dot(X, Y.T)"
      ],
      "execution_count": null,
      "outputs": []
    },
    {
      "cell_type": "code",
      "metadata": {
        "id": "CiuUguaraUJL"
      },
      "source": [
        "svc_kernel = svm.SVC(kernel=my_kernel)"
      ],
      "execution_count": null,
      "outputs": []
    },
    {
      "cell_type": "code",
      "metadata": {
        "colab": {
          "base_uri": "https://localhost:8080/"
        },
        "id": "QP3pVDUc5Jts",
        "outputId": "43555663-f718-4ae5-fa69-733a1174e694"
      },
      "source": [
        "svc_kernel.fit(x_train,y_train)\n",
        "%timeit svc_kernel.predict(x_test)\n",
        "svc_kernel.score(x_test,y_test)"
      ],
      "execution_count": null,
      "outputs": [
        {
          "output_type": "stream",
          "name": "stdout",
          "text": [
            "100 loops, best of 5: 5.32 ms per loop\n"
          ]
        },
        {
          "output_type": "execute_result",
          "data": {
            "text/plain": [
              "0.9861111111111112"
            ]
          },
          "metadata": {},
          "execution_count": 29
        }
      ]
    },
    {
      "cell_type": "code",
      "metadata": {
        "colab": {
          "base_uri": "https://localhost:8080/"
        },
        "id": "bvuhxJSDobdK",
        "outputId": "d76de049-e646-4577-843c-7c75983484d9"
      },
      "source": [
        "print(svc_kernel.predict(x_valid))"
      ],
      "execution_count": null,
      "outputs": [
        {
          "output_type": "stream",
          "name": "stdout",
          "text": [
            "[6 8 4 5 3 3 9 1 2 8 4 7 9 7 9 6 3 3 8 6 5 6 8 1 7 8 3 8 8 0 4 1 9 0 1 8 7\n",
            " 7 0 3 8 8 8 5 5 9 4 9 5 9 6 9 5 2 4 9 2 3 7 8 8 5 2 6 5 1 6 6 7 7 6 2 4 1\n",
            " 4 5 8 0 7 9 0 8 5 7 2 1 3 0 2 5 1 3 1 6 4 8 1 0 0 6 9 5 5 0 7 5 5 2 4 2 0\n",
            " 5 1 0 3 4 2 2 9 3 7 5 9 4 9 7 7 0 4 4 4 3 2 2 5 3 8 6 3 6 1 7 7 1 7 2 9 0\n",
            " 3 5 7 9 0 6 9 2 2 4 4 6 1 9 7 7 1 2 7 3 4 9 2 2 9 0 8 1 4 4 2 6 0 6 2 1 0\n",
            " 1 8 4 4 8 2 7 3 5 1 5 1 0 5 2 2 7 1 6 0 6 7 6 7 1 3 5 5 4 0 1 2 8 9 3 3 7\n",
            " 4 3 9 2 4 4 5 5 9 6 4 7 0 0 3 0 1 9 8 3 9 7 0 1 6 3 0 1 1 0 1 0 6 6 9 2 1\n",
            " 6 5 8 3 4 8 3 1 5 6 3 6 4 8 2 4 4 4 8 4 4 7 1 3 7 2 0 8 6 8 9 6 7 0 8 4 6\n",
            " 3 9 1 3 2 3 7 3 6 2 7 1 2 7 4 5 0 4 5 4 5 5 1 8 8 0 5 8 3 4 5 3 3 2 7 8 6\n",
            " 0 6 4 4 0 3 7 3 4 3 9 6 3 9 8 5 6 0 4 1 5 4 0 9 0 5 4]\n"
          ]
        }
      ]
    },
    {
      "cell_type": "markdown",
      "metadata": {
        "id": "HIyIR0hS6ypp"
      },
      "source": [
        "# FDA"
      ]
    },
    {
      "cell_type": "code",
      "metadata": {
        "id": "WV0bFzDO62RZ"
      },
      "source": [
        "from sklearn.discriminant_analysis import LinearDiscriminantAnalysis\n"
      ],
      "execution_count": null,
      "outputs": []
    },
    {
      "cell_type": "code",
      "metadata": {
        "colab": {
          "base_uri": "https://localhost:8080/"
        },
        "id": "1m8TACO17AaU",
        "outputId": "e1ea211f-00b0-49f0-a4b4-ad69b3327341"
      },
      "source": [
        "#x_train, x_test, y_train, y_test = train_test_split(x,y,test_size=0.3) \n",
        "\n",
        "fda = LinearDiscriminantAnalysis()\n",
        "fda.fit(x_train, y_train)\n",
        "%timeit fda.predict(x_test)\n",
        "fda.score(x_test,y_test)"
      ],
      "execution_count": null,
      "outputs": [
        {
          "output_type": "stream",
          "name": "stdout",
          "text": [
            "1000 loops, best of 5: 171 µs per loop\n"
          ]
        },
        {
          "output_type": "execute_result",
          "data": {
            "text/plain": [
              "0.9416666666666667"
            ]
          },
          "metadata": {},
          "execution_count": 35
        }
      ]
    },
    {
      "cell_type": "code",
      "metadata": {
        "colab": {
          "base_uri": "https://localhost:8080/"
        },
        "id": "qswS_qBEpE6n",
        "outputId": "16ff2a01-5051-497f-ba0c-666f48d9e349"
      },
      "source": [
        "print(fda.predict(x_valid))"
      ],
      "execution_count": null,
      "outputs": [
        {
          "output_type": "stream",
          "name": "stdout",
          "text": [
            "[6 8 4 5 3 3 9 1 2 8 4 9 9 7 9 6 8 3 8 6 5 6 8 1 7 8 3 8 1 0 4 8 9 0 1 8 7\n",
            " 7 0 3 8 8 8 5 5 9 4 9 5 9 6 9 5 2 4 9 2 3 7 8 8 5 2 6 5 1 6 6 7 7 6 2 4 1\n",
            " 7 5 8 0 7 9 0 8 5 7 2 1 3 0 2 5 1 3 1 6 4 8 1 0 0 6 9 5 5 0 7 5 5 2 4 2 0\n",
            " 5 1 0 3 4 2 2 9 3 7 5 9 4 9 9 7 0 4 4 4 3 2 2 5 3 8 6 3 6 1 7 7 1 7 2 9 0\n",
            " 3 5 7 9 0 6 9 2 2 4 4 6 1 9 7 7 1 2 7 3 4 9 2 2 9 0 8 1 4 4 2 6 0 6 2 1 0\n",
            " 1 8 4 4 8 2 7 3 5 1 5 1 0 5 2 2 7 1 6 0 6 7 6 7 1 3 5 5 4 0 1 2 8 9 3 3 7\n",
            " 4 3 9 2 4 9 5 5 9 6 4 7 0 0 3 0 1 9 8 3 9 7 0 1 6 3 0 9 1 0 1 0 6 6 9 2 1\n",
            " 6 5 9 3 4 8 3 1 5 6 3 6 4 8 2 4 4 4 8 4 4 9 1 3 7 2 0 8 6 8 9 6 7 0 3 4 6\n",
            " 3 9 1 3 2 3 7 3 6 2 7 1 2 7 4 5 0 4 5 4 5 5 1 8 8 0 5 8 3 4 5 3 3 2 7 8 6\n",
            " 0 6 4 4 0 3 7 3 4 3 9 6 3 9 8 5 6 0 4 1 5 4 0 7 0 9 4]\n"
          ]
        }
      ]
    },
    {
      "cell_type": "markdown",
      "metadata": {
        "id": "GX2w7-L-_nzx"
      },
      "source": [
        "# Linear Regression"
      ]
    },
    {
      "cell_type": "code",
      "metadata": {
        "id": "AsNuoIbrAfxh"
      },
      "source": [
        "from sklearn.linear_model import LinearRegression"
      ],
      "execution_count": null,
      "outputs": []
    },
    {
      "cell_type": "code",
      "metadata": {
        "colab": {
          "base_uri": "https://localhost:8080/"
        },
        "id": "O3WfOTcSANQj",
        "outputId": "7a525b5b-723f-4c02-8c22-b8ad48fdb7d8"
      },
      "source": [
        "#x_train, x_test, y_train, y_test = train_test_split(x,y,test_size=0.3) \n",
        "\n",
        "linear = LinearRegression()\n",
        "linear.fit(x_train, y_train)\n",
        "%timeit linear.predict(x_test)\n",
        "linear.score(x_test,y_test)\n"
      ],
      "execution_count": null,
      "outputs": [
        {
          "output_type": "stream",
          "name": "stdout",
          "text": [
            "10000 loops, best of 5: 173 µs per loop\n"
          ]
        },
        {
          "output_type": "execute_result",
          "data": {
            "text/plain": [
              "0.5890654260856105"
            ]
          },
          "metadata": {},
          "execution_count": 41
        }
      ]
    },
    {
      "cell_type": "code",
      "metadata": {
        "colab": {
          "base_uri": "https://localhost:8080/"
        },
        "id": "oKvj3SsZpzYv",
        "outputId": "c9e342c3-8768-4f51-852e-485602ff1286"
      },
      "source": [
        "print(linear.predict(x_valid))"
      ],
      "execution_count": null,
      "outputs": [
        {
          "output_type": "stream",
          "name": "stdout",
          "text": [
            "[ 5.80324265  6.01471146  3.00475849  3.99066501  5.08915358  4.82641483\n",
            "  5.25858008  3.35256813  3.10531222  7.67578     2.96090869  6.99266838\n",
            "  7.16332683  6.18271075  7.73867754  3.75934915  5.62338753  4.25833751\n",
            "  6.28350303  5.21413009  5.15328173  5.77122187  5.99493203  3.25768394\n",
            "  5.65401568  7.85697344  4.81404866  8.42062743  5.83510027  2.2695018\n",
            "  3.90205472  5.19894434  6.17526982  1.66806545  3.77207812  7.04511351\n",
            "  5.74250438  6.56056211  1.58999675  6.03780477  7.60242166  7.25754811\n",
            "  7.35913214  4.67378954  3.91228954  6.61979288  3.42892237  4.53309843\n",
            "  4.30577023  9.08260263  3.79156095  6.16334942  6.62477737  0.75733169\n",
            "  5.50490099  7.67233693 -0.10635262  7.17787473  6.46175791  7.9099936\n",
            "  6.84241242  4.47952645  1.96215422  3.73740654  8.42470857  2.27420046\n",
            "  4.64849145  4.43899198  5.84867417  7.35818681  6.46904535  2.70936259\n",
            "  2.59142795  2.77620808  6.68149601 -1.12965062  6.74556199  3.47087458\n",
            "  7.40565631  7.34048822  3.38194723  7.36936726  2.07293774  6.33312335\n",
            "  0.60556669  3.74039645  3.87239066  4.56901942  4.32857591  5.90975873\n",
            "  2.6597077   3.32590235  4.21336189  6.62149852  5.08276424  8.50845704\n",
            "  2.91056667  3.05569332  3.12379283  6.02518682  4.6795693   4.30695829\n",
            "  4.50220349  0.23202027  6.91722773  4.15115312  4.58774228  0.23961456\n",
            "  3.59004269  4.26358632 -1.97752307 -2.65724248  4.27123218  0.42495423\n",
            "  5.58596676  3.65393117  2.34381723  2.13622994  6.20088359  5.16031378\n",
            "  7.96773218  5.18584286  7.6024564   4.40523805  6.19216943  3.62144071\n",
            "  7.54842932  0.45422925  4.10120428  2.95195994  2.65052388  5.11351955\n",
            "  4.30241375  2.97313762  4.0597047   4.04038251  7.6431328   7.12539787\n",
            "  3.42211352  6.09626734  3.29682778  7.95218957  6.01188149  3.21845265\n",
            "  5.78163612  2.30775976  5.79202256  0.32681262  3.03587072  6.14531625\n",
            "  6.69954565  2.51423018  2.20913958  4.2441582   7.10036599  3.58645081\n",
            "  3.35629467  2.44499055  3.70580266  4.46999307  2.40613832  6.71910104\n",
            "  7.2069702   7.01865427  1.76150973  2.98631234  6.5074087   0.76681511\n",
            "  3.35738804  6.68214444  3.56008679  2.6058299   8.64717417  3.80517397\n",
            "  7.00989552  2.05815812  4.59225087  4.81815679  2.48363346  5.87382378\n",
            "  0.8574581   5.50235793  0.45469914  0.53844987  0.67463658  3.82692246\n",
            "  7.11748892  5.46940141  2.46943568  3.3091346   1.60544804  6.51721977\n",
            "  4.99940448  6.31618827  3.05855889  5.78233581  2.59263618  2.26457053\n",
            "  5.76270236  1.51591425  3.60635018  6.25505159  2.51459864  6.47840271\n",
            "  1.60480365  4.87939747  6.10022896  6.23633943  7.70051927  3.68673699\n",
            "  2.4881413   6.16040391  6.5168978   4.07914224  0.90589124  3.48678218\n",
            "  2.31201007  6.53412639  6.03617028  6.42680916  5.95629662  6.85684277\n",
            "  3.53906379  3.27080976  8.20354288  1.85587158  5.40183979  8.27026021\n",
            "  2.39615652  3.640669    7.14197601  4.92760457  5.25166744  6.01613242\n",
            "  2.49234208 -0.85185606  1.83629127  3.4259585   3.72095862  6.61016699\n",
            "  5.56637562  2.74152808  8.52269716  5.8167229   0.66822902  1.99971916\n",
            "  4.63040818  4.27451453  2.27365086  2.36824401  2.15392994  0.62531165\n",
            "  1.18741072  1.9964353   3.91304564  4.29485226  3.62638134  1.88783959\n",
            "  2.63473546  4.37943766  6.52145742  7.07449426  3.21071793  4.80305804\n",
            "  6.59452015  2.02104543  2.5599273   3.98357621  5.71272561  4.97001719\n",
            "  4.81041041  4.09818535  7.12936859 -0.68139898  2.25979319  3.86927639\n",
            "  1.85387765  7.674588    4.52324811  5.73017016  8.14883109  1.45772149\n",
            "  4.20119391  5.49780288  2.46533593  1.4269474   8.59588293  4.24314792\n",
            "  5.25081738  4.0481641   3.36967903  7.41435058  3.07194164  6.62668411\n",
            "  4.61481414  5.02115313  4.87121073  8.62940626  2.04831418  2.34832597\n",
            "  0.87835767  3.84167837  5.96099255  1.57230986  5.31098132  1.94929815\n",
            "  7.18673524  2.87126703  0.70441956  5.74803     2.68421603  4.46108459\n",
            " -1.0043272   5.76950094  6.6881437   2.60151449  5.16520181  4.82629773\n",
            "  3.93131964  8.63350172  4.29396715  0.69410434  4.6610709   7.97631767\n",
            "  4.03397781  3.81470906  5.3996407   5.38220212  5.5445866   3.37509382\n",
            "  6.73030481  7.4855929   4.26542925  3.36811393  5.33524578  2.23440411\n",
            "  2.59176006  1.85885497  4.4472326   8.57668783  4.86037844  6.3511448\n",
            "  3.24862418  6.50527952  4.61315314  1.40025994  6.06418882  7.41310011\n",
            "  4.22617872  3.1739381   1.45533489  2.04782152  0.65382257  5.30146749\n",
            "  2.31419614  2.48475615  8.80195678  1.76847304  6.8892145   3.09842365]\n"
          ]
        }
      ]
    },
    {
      "cell_type": "markdown",
      "metadata": {
        "id": "wrtfXqVOTHAc"
      },
      "source": [
        "# MLP"
      ]
    },
    {
      "cell_type": "code",
      "metadata": {
        "id": "IKx4HS9pTJit"
      },
      "source": [
        "from sklearn.neural_network import MLPClassifier"
      ],
      "execution_count": null,
      "outputs": []
    },
    {
      "cell_type": "code",
      "metadata": {
        "colab": {
          "base_uri": "https://localhost:8080/"
        },
        "id": "AUZNp6vwTMLO",
        "outputId": "67421afe-894d-4ef5-bdda-8fab7ac173a2"
      },
      "source": [
        "#stochastic gradient descent\n",
        "mlp1 = MLPClassifier(solver='sgd', hidden_layer_sizes=(10,), random_state=1)\n",
        "\n",
        "mlp1.fit(x_train,y_train)\n",
        "%timeit mlp1.predict(x_test)\n",
        "mlp1.score(x_test, y_test)"
      ],
      "execution_count": null,
      "outputs": [
        {
          "output_type": "stream",
          "name": "stderr",
          "text": [
            "/usr/local/lib/python3.7/dist-packages/sklearn/neural_network/_multilayer_perceptron.py:696: ConvergenceWarning: Stochastic Optimizer: Maximum iterations (200) reached and the optimization hasn't converged yet.\n",
            "  ConvergenceWarning,\n"
          ]
        },
        {
          "output_type": "stream",
          "name": "stdout",
          "text": [
            "1000 loops, best of 5: 440 µs per loop\n"
          ]
        },
        {
          "output_type": "execute_result",
          "data": {
            "text/plain": [
              "0.9111111111111111"
            ]
          },
          "metadata": {},
          "execution_count": 44
        }
      ]
    },
    {
      "cell_type": "code",
      "metadata": {
        "colab": {
          "base_uri": "https://localhost:8080/"
        },
        "id": "lSJvcS9gqiGS",
        "outputId": "35bd7a04-4844-4d3a-b968-1c7535e85b0e"
      },
      "source": [
        "print(mlp1.predict(x_valid))"
      ],
      "execution_count": null,
      "outputs": [
        {
          "output_type": "stream",
          "name": "stdout",
          "text": [
            "[6 1 4 5 8 3 9 1 2 8 4 2 9 7 9 6 8 3 8 6 3 6 8 1 7 8 8 8 1 0 4 8 9 0 1 8 7\n",
            " 7 0 3 8 8 8 5 5 9 4 9 5 9 6 9 5 2 4 9 2 3 7 8 8 5 2 6 5 1 6 6 7 7 6 2 4 1\n",
            " 4 5 8 0 7 9 0 8 5 7 2 1 7 0 2 5 1 3 7 6 4 8 1 0 0 6 9 5 5 0 7 5 5 2 4 6 0\n",
            " 5 1 0 3 4 2 2 9 3 7 5 9 4 9 3 7 0 4 4 4 3 2 2 5 3 8 6 3 6 1 7 7 1 7 2 9 0\n",
            " 3 5 7 9 0 6 9 2 2 4 4 6 1 9 7 7 1 2 7 3 4 9 2 2 9 0 8 8 4 4 2 6 0 6 2 1 0\n",
            " 1 8 4 4 8 2 7 3 5 1 5 1 0 5 2 2 7 8 6 0 6 7 6 7 8 3 5 5 4 0 8 2 1 9 3 3 7\n",
            " 4 3 3 2 4 8 5 5 9 6 4 7 0 0 3 0 1 9 1 3 9 7 0 1 6 3 0 8 1 0 1 0 6 6 9 2 1\n",
            " 6 5 8 3 4 9 3 1 5 6 3 6 4 9 2 4 4 4 8 4 4 2 1 3 7 2 0 8 6 8 9 6 7 0 3 4 6\n",
            " 3 3 1 3 2 3 7 3 6 2 7 1 2 7 4 5 0 4 5 4 5 5 1 9 8 0 5 8 3 4 5 3 3 2 7 8 6\n",
            " 0 6 4 4 0 3 7 3 4 3 8 6 3 9 8 5 6 0 4 4 5 4 0 3 0 9 4]\n"
          ]
        }
      ]
    },
    {
      "cell_type": "code",
      "metadata": {
        "colab": {
          "base_uri": "https://localhost:8080/"
        },
        "id": "7Zfc6BllTwuY",
        "outputId": "a65dbece-96db-4697-a824-d5ea654c8f00"
      },
      "source": [
        "mlp2 = MLPClassifier(solver='lbfgs', hidden_layer_sizes=(10,), random_state=1)\n",
        "\n",
        "mlp2.fit(x_train,y_train)\n",
        "%timeit mlp2.predict(x_test)\n",
        "mlp2.score(x_test, y_test)"
      ],
      "execution_count": null,
      "outputs": [
        {
          "output_type": "stream",
          "name": "stderr",
          "text": [
            "/usr/local/lib/python3.7/dist-packages/sklearn/neural_network/_multilayer_perceptron.py:549: ConvergenceWarning: lbfgs failed to converge (status=1):\n",
            "STOP: TOTAL NO. of ITERATIONS REACHED LIMIT.\n",
            "\n",
            "Increase the number of iterations (max_iter) or scale the data as shown in:\n",
            "    https://scikit-learn.org/stable/modules/preprocessing.html\n",
            "  self.n_iter_ = _check_optimize_result(\"lbfgs\", opt_res, self.max_iter)\n"
          ]
        },
        {
          "output_type": "stream",
          "name": "stdout",
          "text": [
            "The slowest run took 4.17 times longer than the fastest. This could mean that an intermediate result is being cached.\n",
            "1000 loops, best of 5: 412 µs per loop\n"
          ]
        },
        {
          "output_type": "execute_result",
          "data": {
            "text/plain": [
              "0.6916666666666667"
            ]
          },
          "metadata": {},
          "execution_count": 168
        }
      ]
    }
  ]
}